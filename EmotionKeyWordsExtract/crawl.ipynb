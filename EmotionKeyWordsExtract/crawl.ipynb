{
 "cells": [
  {
   "cell_type": "code",
   "execution_count": 1,
   "outputs": [],
   "source": [
    "import csv\n",
    "import pandas as pd\n",
    "import numpy as np\n",
    "import jieba\n",
    "import jieba.analyse\n",
    "import time\n",
    "import requests\n",
    "import json\n",
    "\n",
    "POS = 'pos'\n",
    "NEG = 'neg'\n",
    "labels = []\n",
    "contents = []\n",
    "header = {\"User-Agent\": \"Mozilla/5.0 (Windows NT 10.0; Win64; x64) AppleWebKit/537.36 (KHTML, like Gecko) Chrome/103.0.5060.66 Safari/537.36 Edg/103.0.1264.44\"}\n",
    "flag = NEG;"
   ],
   "metadata": {
    "collapsed": false,
    "pycharm": {
     "name": "#%%\n"
    }
   }
  },
  {
   "cell_type": "code",
   "execution_count": null,
   "outputs": [],
   "source": [
    "with open(f'data_{flag}.csv', 'w', newline='', encoding='utf-8') as f:\n",
    "    fieldnames = ['label', 'content']\n",
    "    writer = csv.DictWriter(f, fieldnames=fieldnames)\n",
    "    writer.writeheader()\n",
    "    productids = [100028235472,100016864291,100035927374,100016931023,100036448552]\n",
    "    for productid in productids:\n",
    "        for page in range(0,20):\n",
    "            url = f'https://club.jd.com/comment/productPageComments.action?callback=fetchJSON_comment98&productId={productid}&score=1&sortType=5&page={page}&pageSize=10&isShadowSku=0&fold=1'                              # score = 3 is good comment, 1 is bad\n",
    "            response = requests.get(url, headers=header)\n",
    "            data = response.text\n",
    "            jd = json.loads(data.lstrip('fetchJSON_comment98vv12345(').rstrip(');'))\n",
    "            data_list = jd['comments']\n",
    "            for data in data_list:\n",
    "                print(data['content'])\n",
    "                writer.writerow({'label':f'{flag}','content':data['content']})\n",
    "            time.sleep(1)\n",
    "    f.close()"
   ],
   "metadata": {
    "collapsed": false,
    "pycharm": {
     "name": "#%%\n"
    }
   }
  },
  {
   "cell_type": "code",
   "execution_count": 23,
   "outputs": [
    {
     "name": "stdout",
     "output_type": "stream",
     "text": [
      "['一个', '一件', '一块', '一天', '一样', '一点', '外观', '屏幕', '手机', '拍照', '效果', '运行', '速度', '一个月', '不到', '不好', '不是', '不能', '不行']\n"
     ]
    }
   ],
   "source": [
    "stop_list = pd.read_csv('stop_words.txt',\n",
    "                        encoding='utf-8',)['t'].to_list()\n",
    "print(stop_list)"
   ],
   "metadata": {
    "collapsed": false,
    "pycharm": {
     "name": "#%%\n"
    }
   }
  },
  {
   "cell_type": "code",
   "execution_count": 24,
   "outputs": [
    {
     "name": "stdout",
     "output_type": "stream",
     "text": [
      "0\n",
      "[1, 1, 1, 1, 1]\n",
      "['昨天 刚买 的 今天 就 降价 30 块钱', '千元 左右 的 机 就是 这 样子 了', '用 了 快 了 时不时 的 没 信号', '显示 有 赠品 ！ 为什么 收不到', '快递 包裹 简陋 ， 没有 装防 摔 的 气囊 ！']\n",
      "1000\n"
     ]
    }
   ],
   "source": [
    "#中文分词函数\n",
    "def txt_cut(juzi):\n",
    "    return [w for w in jieba.lcut(juzi) if w not in stop_list]\n",
    "#写入分词结果\n",
    "fw = open(f'fenci_data_{flag}.csv', \"w\", newline = '',encoding = 'utf-8')\n",
    "writer = csv.writer(fw)\n",
    "writer.writerow(['label','content'])\n",
    "\n",
    "# # 使用csv.DictReader读取文件中的信息\n",
    "labels = []\n",
    "contents = []\n",
    "print(contents.__len__())\n",
    "file = f\"data_{flag}.csv\"\n",
    "with open(file, \"r\", encoding=\"UTF-8\") as f:\n",
    "    reader = csv.DictReader(f)\n",
    "    for row in reader:\n",
    "        # 数据元素获取\n",
    "        if row['label'] == '0':\n",
    "            res = 0\n",
    "        else:\n",
    "            res = 1\n",
    "        labels.append(res)\n",
    "        content = row['content']\n",
    "        seglist = txt_cut(content)\n",
    "        output = ' '.join(list(seglist))            #空格拼接\n",
    "        contents.append(output)\n",
    "\n",
    "        #文件写入\n",
    "        tlist = []\n",
    "        tlist.append(res)\n",
    "        tlist.append(output)\n",
    "        writer.writerow(tlist)\n",
    "f.close()\n",
    "print(labels[:5])\n",
    "print(contents[:5])\n",
    "print(contents.__len__())\n",
    "fw.close()"
   ],
   "metadata": {
    "collapsed": false,
    "pycharm": {
     "name": "#%%\n"
    }
   }
  },
  {
   "cell_type": "code",
   "execution_count": 25,
   "outputs": [
    {
     "name": "stdout",
     "output_type": "stream",
     "text": [
      "['1', '1', '1', '1', '1']\n",
      "['昨天 刚买 的 今天 就 降价 30 块钱', '千元 左右 的 机 就是 这 样子 了', '用 了 快 了 时不时 的 没 信号', '显示 有 赠品 ！ 为什么 收不到', '快递 包裹 简陋 ， 没有 装防 摔 的 气囊 ！']\n"
     ]
    }
   ],
   "source": [
    "# -*- coding:utf-8 -*-\n",
    "import csv\n",
    "import pandas as pd\n",
    "import numpy as np\n",
    "import jieba\n",
    "import jieba.analyse\n",
    "from scipy.sparse import coo_matrix\n",
    "from sklearn import feature_extraction\n",
    "from sklearn.feature_extraction.text import TfidfVectorizer\n",
    "from sklearn.feature_extraction.text import CountVectorizer\n",
    "from sklearn.feature_extraction.text import TfidfTransformer\n",
    "\n",
    "#----------------------------------第一步 读取文件--------------------------------\n",
    "with open(f'fenci_data_{flag}.csv', 'r', encoding='UTF-8') as f:\n",
    "    reader = csv.DictReader(f)\n",
    "    labels = []\n",
    "    contents = []\n",
    "    for row in reader:\n",
    "        labels.append(row['label']) #0-好评 1-差评\n",
    "        contents.append(row['content'])\n",
    "\n",
    "print(labels[:5])\n",
    "print(contents[:5])"
   ],
   "metadata": {
    "collapsed": false,
    "pycharm": {
     "name": "#%%\n"
    }
   }
  },
  {
   "cell_type": "code",
   "execution_count": 26,
   "outputs": [
    {
     "name": "stdout",
     "output_type": "stream",
     "text": [
      "  (0, 1505)\t1\n",
      "  (0, 610)\t1\n",
      "  (0, 416)\t1\n",
      "  (0, 2394)\t1\n",
      "  (0, 40)\t1\n",
      "  (0, 886)\t1\n",
      "  (1, 673)\t1\n",
      "  (1, 1102)\t1\n",
      "  (1, 1078)\t1\n",
      "  (1, 1610)\t1\n",
      "  (2, 1490)\t1\n",
      "  (2, 482)\t1\n",
      "  (3, 1509)\t1\n",
      "  (3, 2196)\t1\n",
      "  (3, 341)\t1\n",
      "  (3, 1425)\t1\n",
      "  (4, 1216)\t1\n",
      "  (4, 655)\t1\n",
      "  (4, 1945)\t1\n",
      "  (4, 1676)\t1\n",
      "  (4, 2098)\t1\n",
      "  (4, 1652)\t1\n",
      "  (5, 850)\t1\n",
      "  (5, 2197)\t1\n",
      "  (5, 1763)\t1\n",
      "  :\t:\n",
      "  (998, 574)\t1\n",
      "  (998, 713)\t1\n",
      "  (998, 2123)\t1\n",
      "  (998, 1218)\t1\n",
      "  (998, 2150)\t1\n",
      "  (998, 641)\t1\n",
      "  (999, 482)\t1\n",
      "  (999, 1509)\t2\n",
      "  (999, 1216)\t2\n",
      "  (999, 1676)\t1\n",
      "  (999, 1237)\t1\n",
      "  (999, 2310)\t1\n",
      "  (999, 171)\t1\n",
      "  (999, 1807)\t1\n",
      "  (999, 1299)\t1\n",
      "  (999, 1128)\t1\n",
      "  (999, 888)\t1\n",
      "  (999, 1112)\t1\n",
      "  (999, 762)\t1\n",
      "  (999, 1067)\t1\n",
      "  (999, 127)\t1\n",
      "  (999, 209)\t2\n",
      "  (999, 1836)\t1\n",
      "  (999, 389)\t1\n",
      "  (999, 1408)\t1\n"
     ]
    }
   ],
   "source": [
    "#----------------------------------第二步 数据预处理--------------------------------\n",
    "#将文本中的词语转换为词频矩阵 矩阵元素a[i][j] 表示j词在i类文本下的词频\n",
    "vectorizer = CountVectorizer()\n",
    "print(vectorizer.fit_transform(contents))"
   ],
   "metadata": {
    "collapsed": false,
    "pycharm": {
     "name": "#%%\n"
    }
   }
  },
  {
   "cell_type": "code",
   "execution_count": 27,
   "outputs": [
    {
     "name": "stdout",
     "output_type": "stream",
     "text": [
      "  (0, 2394)\t0.2852320291484702\n",
      "  (0, 1505)\t0.4682689307606282\n",
      "  (0, 886)\t0.45778255951930047\n",
      "  (0, 610)\t0.3594016671551359\n",
      "  (0, 416)\t0.4084172107525733\n",
      "  (0, 40)\t0.4402588441352423\n",
      "  (0, 1610)\t0.5006851631756772\n",
      "  (0, 1102)\t0.5410542142472095\n",
      "  (0, 1078)\t0.33827825718383264\n",
      "  (0, 673)\t0.584929504588159\n",
      "  (0, 1490)\t0.7984201973398706\n",
      "  (0, 482)\t0.6021006464701414\n",
      "  (0, 2196)\t0.4291134360790619\n",
      "  (0, 1509)\t0.45172563801430576\n",
      "  (0, 1425)\t0.6115688099428245\n",
      "  (0, 341)\t0.48763633749148194\n",
      "  (0, 2098)\t0.4842406192099647\n",
      "  (0, 1945)\t0.4570297887523602\n",
      "  (0, 1676)\t0.194047361559403\n",
      "  (0, 1652)\t0.4842406192099647\n",
      "  (0, 1216)\t0.30477806111836686\n",
      "  (0, 655)\t0.43772339729563964\n",
      "<class 'scipy.sparse.csr.csr_matrix'>\n"
     ]
    }
   ],
   "source": [
    "#该类会统计每个词语的tf-idf权值\n",
    "transformer = TfidfTransformer()\n",
    "#左起第一个fit_transform()计算tf-idf 第二个fit_transform()将文本转为词频矩阵\n",
    "tfidf = transformer.fit_transform(vectorizer.fit_transform(contents))\n",
    "# print(tfidf[0])\n",
    "for n in tfidf[:5]:\n",
    "    print(n)\n",
    "print(type(tfidf))"
   ],
   "metadata": {
    "collapsed": false,
    "pycharm": {
     "name": "#%%\n"
    }
   }
  },
  {
   "cell_type": "code",
   "execution_count": 28,
   "outputs": [
    {
     "name": "stdout",
     "output_type": "stream",
     "text": [
      "单词数量: 2452\n",
      "(2452,)\n",
      "不了\n",
      "不要\n",
      "京东\n",
      "什么\n",
      "信号\n",
      "充电\n",
      "几天\n",
      "刚买\n",
      "垃圾\n",
      "客服\n",
      "就是\n",
      "收到\n",
      "有点\n",
      "没有\n",
      "耳机\n",
      "质量\n",
      "赠品\n",
      "退货\n",
      "问题\n",
      "降价\n",
      "<class 'numpy.ndarray'>\n"
     ]
    }
   ],
   "source": [
    "# 获取词袋模型中的所有词语\n",
    "word = vectorizer.get_feature_names_out()\n",
    "print(\"单词数量:\", len(word))\n",
    "\n",
    "#将tf-idf矩阵抽取出来，元素w[i][j]表示j词在i类文本中的tf-idf权重\n",
    "X = coo_matrix(tfidf, dtype=np.float32).toarray() #稀疏矩阵 注意float\n",
    "\n",
    "rst = X[0]\n",
    "for i, x in enumerate(X):\n",
    "    if i == 0:\n",
    "        continue\n",
    "    rst = rst + x\n",
    "print(rst.shape)\n",
    "word_tfidf={}\n",
    "for i, tfidf_val in enumerate(rst):\n",
    "    word_tfidf[i] = tfidf_val\n",
    "# rst.sort()\n",
    "# print(rst)\n",
    "a = sorted(rst,reverse=1)\n",
    "# print(a)\n",
    "for key in word_tfidf:\n",
    "    for i in range(20):\n",
    "        if word_tfidf[key] == a[i]:\n",
    "            print(word[key])\n",
    "\n",
    "print(type(X))"
   ],
   "metadata": {
    "collapsed": false,
    "pycharm": {
     "name": "#%%\n"
    }
   }
  },
  {
   "cell_type": "code",
   "execution_count": null,
   "outputs": [],
   "source": [],
   "metadata": {
    "collapsed": false,
    "pycharm": {
     "name": "#%%\n"
    }
   }
  }
 ],
 "metadata": {
  "kernelspec": {
   "display_name": "Python 3",
   "language": "python",
   "name": "python3"
  },
  "language_info": {
   "codemirror_mode": {
    "name": "ipython",
    "version": 2
   },
   "file_extension": ".py",
   "mimetype": "text/x-python",
   "name": "python",
   "nbconvert_exporter": "python",
   "pygments_lexer": "ipython2",
   "version": "2.7.6"
  }
 },
 "nbformat": 4,
 "nbformat_minor": 0
}